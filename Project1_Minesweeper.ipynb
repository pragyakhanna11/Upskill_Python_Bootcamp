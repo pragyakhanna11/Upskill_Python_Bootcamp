{
  "nbformat": 4,
  "nbformat_minor": 0,
  "metadata": {
    "colab": {
      "name": "Project1_Minesweeper.ipynb",
      "provenance": [],
      "authorship_tag": "ABX9TyM1y3st63ptsTGVogYDiyYR",
      "include_colab_link": true
    },
    "kernelspec": {
      "name": "python3",
      "display_name": "Python 3"
    },
    "language_info": {
      "name": "python"
    }
  },
  "cells": [
    {
      "cell_type": "markdown",
      "metadata": {
        "id": "view-in-github",
        "colab_type": "text"
      },
      "source": [
        "<a href=\"https://colab.research.google.com/github/pragyakhanna11/Upskill_Python_Bootcamp/blob/main/Project1_Minesweeper.ipynb\" target=\"_parent\"><img src=\"https://colab.research.google.com/assets/colab-badge.svg\" alt=\"Open In Colab\"/></a>"
      ]
    },
    {
      "cell_type": "markdown",
      "metadata": {
        "id": "Of3JMNZ20430"
      },
      "source": [
        "# MineSweeper Game 🎮✨\n",
        "<img src='https://drive.google.com/uc?id=11p0tSRS1wsDXACd8qN8FRK8OUtb4wvSq' width=450px>"
      ]
    },
    {
      "cell_type": "markdown",
      "metadata": {
        "id": "4Jggx_THP5-x"
      },
      "source": [
        "## Display empty grid\n",
        "Let’s start with creating a empty grid of n rows and n columns."
      ]
    },
    {
      "cell_type": "code",
      "metadata": {
        "colab": {
          "base_uri": "https://localhost:8080/"
        },
        "id": "5N9vwMVoSINi",
        "outputId": "ac74d8cc-1640-42f7-8e27-377ed281bdf4"
      },
      "source": [
        "n = 5\n",
        "arr = [[0 for column in range(n)] for row in range(n)]\n",
        "print(arr)"
      ],
      "execution_count": null,
      "outputs": [
        {
          "output_type": "stream",
          "text": [
            "[[0, 0, 0, 0, 0], [0, 0, 0, 0, 0], [0, 0, 0, 0, 0], [0, 0, 0, 0, 0], [0, 0, 0, 0, 0]]\n"
          ],
          "name": "stdout"
        }
      ]
    },
    {
      "cell_type": "markdown",
      "metadata": {
        "id": "jj3DwpkjSRGa"
      },
      "source": [
        "0 0 0 0 0\\\n",
        "0 0 0 0 0\\\n",
        "0 0 0 0 0\\\n",
        "0 0 0 0 0\\\n",
        "0 0 0 0 0"
      ]
    },
    {
      "cell_type": "code",
      "metadata": {
        "id": "rWPT5vaMPlEi"
      },
      "source": [
        "def minesweeper(n):\n",
        "    arr = [[0 for column in range(n)] for row in range(n)]\n",
        "    for row in arr:\n",
        "        print(\" \".join(str(cell) for cell in row))\n",
        "        print(\"\")"
      ],
      "execution_count": null,
      "outputs": []
    },
    {
      "cell_type": "code",
      "metadata": {
        "id": "XljtJC0sPpqU"
      },
      "source": [
        "minesweeper(5)"
      ],
      "execution_count": null,
      "outputs": []
    },
    {
      "cell_type": "markdown",
      "metadata": {
        "id": "M4ym0ln3QM6d"
      },
      "source": [
        "## Randomly place a bomb\n",
        "Now, let’s randomly place a bomb, represented by “X”, within the grid. Each of neighboring cells increases their values to 1."
      ]
    },
    {
      "cell_type": "markdown",
      "metadata": {
        "id": "jgQ-OEC1AOWg"
      },
      "source": [
        "<img src='https://drive.google.com/uc?id=1lt8zNlkUPvDqxjAs_MlPz8Y1sdtSOUDa' width=350px>"
      ]
    },
    {
      "cell_type": "code",
      "metadata": {
        "id": "HAe-9mpJPviR"
      },
      "source": [
        "import random\n",
        "def minesweeper(n):\n",
        "    arr = [[0 for row in range(n)] for column in range(n)]\n",
        "    x = random.randint(0,4)\n",
        "    y = random.randint(0,4)\n",
        "    arr[y][x] = 'X'\n",
        "    if (x >= 1 and x <= 3):\n",
        "        arr[y][x+1] += 1 # center right\n",
        "        arr[y][x-1] += 1 # center left\n",
        "    if (x == 0):\n",
        "        arr[y][x+1] += 1 # center right\n",
        "    if (x == 4):\n",
        "        arr[y][x-1] += 1 # center left\n",
        "    if (x >= 1 and x <= 4) and (y >= 1 and y <= 4):\n",
        "        arr[y-1][x-1] += 1 # top left\n",
        " \n",
        "    if (x >= 0 and x <= 3) and (y >= 1 and y <= 4):\n",
        "        arr[y-1][x+1] += 1 # top right\n",
        "    if (x >= 0 and x <= 4) and (y >= 1 and y <= 4):\n",
        "        arr[y-1][x] += 1 # top center\n",
        " \n",
        "    if (x >=0 and x <= 3) and (y >= 0 and y <= 3):\n",
        "        arr[y+1][x+1] += 1 # bottom right\n",
        "    \n",
        "    if (x >= 1 and x <= 4) and (y >= 0 and y <= 3):\n",
        "        arr[y+1][x-1] += 1 # bottom left\n",
        "    if (x >= 0 and x <= 4) and (y >= 0 and y <= 3):\n",
        "        arr[y+1][x] += 1 # bottom center\n",
        "    for row in arr:\n",
        "        print(\" \".join(str(cell) for cell in row))\n",
        "        print(\"\")"
      ],
      "execution_count": null,
      "outputs": []
    },
    {
      "cell_type": "code",
      "metadata": {
        "id": "QYrBrfldNKgc"
      },
      "source": [
        "minesweeper(5)"
      ],
      "execution_count": null,
      "outputs": []
    },
    {
      "cell_type": "markdown",
      "metadata": {
        "id": "_TM4-V1sTBcH"
      },
      "source": [
        "## Randomly place two bombs within the grid\n",
        "Each of neighboring cells to be populated with correct values."
      ]
    },
    {
      "cell_type": "code",
      "metadata": {
        "id": "YhVu-InsS63w"
      },
      "source": [
        "import random\n",
        "def minesweeper(n):\n",
        "    arr = [[0 for row in range(n)] for column in range(n)]\n",
        "    for num in range(2):\n",
        "        x = random.randint(0,4)\n",
        "        y = random.randint(0,4)\n",
        "        arr[y][x] = 'X'\n",
        "        if (x >=0 and x <= 3) and (y >= 0 and y <= 4):\n",
        "            arr[y][x+1] += 1 # center right\n",
        "        if (x >=1 and x <= 4) and (y >= 0 and y <= 4):\n",
        "            arr[y][x-1] += 1 # center left\n",
        "        if (x >= 1 and x <= 4) and (y >= 1 and y <= 4):\n",
        "            if arr[y-1][x-1] != 'X':\n",
        "                arr[y-1][x-1] += 1 # top left\n",
        " \n",
        "        if (x >= 0 and x <= 3) and (y >= 1 and y <= 4):\n",
        "            if arr[y-1][x+1] != 'X':\n",
        "                arr[y-1][x+1] += 1 # top right\n",
        "        if (x >= 0 and x <= 4) and (y >= 1 and y <= 4):\n",
        "            if arr[y-1][x] != 'X':\n",
        "                arr[y-1][x] += 1 # top center\n",
        " \n",
        "        if (x >=0 and x <= 3) and (y >= 0 and y <= 3):\n",
        "            if arr[y+1][x+1] != 'X':\n",
        "                arr[y+1][x+1] += 1 # bottom right\n",
        "        if (x >= 1 and x <= 4) and (y >= 0 and y <= 3):\n",
        "            if arr[y+1][x-1] != 'X':\n",
        "                arr[y+1][x-1] += 1 # bottom left\n",
        "        if (x >= 0 and x <= 4) and (y >= 0 and y <= 3):\n",
        "            if arr[y+1][x] != 'X':\n",
        "                arr[y+1][x] += 1 # bottom center\n",
        "    for row in arr:\n",
        "        print(\"\\t\".join(str(cell) for cell in row))\n",
        "        print(\"\")"
      ],
      "execution_count": null,
      "outputs": []
    },
    {
      "cell_type": "markdown",
      "metadata": {
        "id": "Bs4-Tish4UFk"
      },
      "source": [
        "## Let's give it a final shape!!😵"
      ]
    },
    {
      "cell_type": "code",
      "metadata": {
        "id": "A5gu4ZT22S0O"
      },
      "source": [
        "import random\n",
        "def GenerateMineSweeperMap(n, k):\n",
        "  '''\n",
        "  generate the required grid, with bombs and numbers\n",
        "  n = dimension of grid\n",
        "  k = number of bombs\n",
        "  '''\n",
        "\n",
        "def GeneratePlayerMap(n):\n",
        "  '''\n",
        "  generate the player map which would be displayed to the user\n",
        "  should be a square of '-' with n sides\n",
        "  '''\n",
        "\n",
        "def DisplayMap(map):\n",
        "  '''\n",
        "  To join the 2D list obtained by the above 2 \n",
        "  and print it to the user\n",
        "  '''\n",
        "\n",
        "def CheckPlaying(map):\n",
        "  '''\n",
        "  To check if the user is still playing or all cells have been opened/flagged\n",
        "  Return true if playing\n",
        "  else return false\n",
        "  '''\n",
        "\n",
        "def CheckContinueGame(score):\n",
        "  '''\n",
        "  1. Print the score\n",
        "  2. Ask if the wish to play again?\n",
        "  3. Return false if not, else return true\n",
        "  '''\n",
        "\n",
        "def Game():\n",
        "  GameStatus = True\n",
        "  while GameStatus:\n",
        "    pass"
      ],
      "execution_count": null,
      "outputs": []
    },
    {
      "cell_type": "markdown",
      "metadata": {
        "id": "TkChGnP84aO7"
      },
      "source": [
        "## TADA 🌟"
      ]
    },
    {
      "cell_type": "code",
      "metadata": {
        "id": "Q9drVWF2bfns"
      },
      "source": [
        "import random\n",
        "def GenerateMineSweeperMap(n, k):\n",
        "    arr = [[0 for row in range(n)] for column in range(n)]\n",
        "    for num in range(k):\n",
        "        x = random.randint(0,n-1)\n",
        "        y = random.randint(0,n-1)\n",
        "        arr[y][x] = 'X'\n",
        "        if (x >=0 and x <= n-2) and (y >= 0 and y <= n-1):\n",
        "            if arr[y][x+1] != 'X':\n",
        "                arr[y][x+1] += 1 # center right\n",
        "        if (x >=1 and x <= n-1) and (y >= 0 and y <= n-1):\n",
        "            if arr[y][x-1] != 'X':\n",
        "                arr[y][x-1] += 1 # center left\n",
        "        if (x >= 1 and x <= n-1) and (y >= 1 and y <= n-1):\n",
        "            if arr[y-1][x-1] != 'X':\n",
        "                arr[y-1][x-1] += 1 # top left\n",
        " \n",
        "        if (x >= 0 and x <= n-2) and (y >= 1 and y <= n-1):\n",
        "            if arr[y-1][x+1] != 'X':\n",
        "                arr[y-1][x+1] += 1 # top right\n",
        "        if (x >= 0 and x <= n-1) and (y >= 1 and y <= n-1):\n",
        "            if arr[y-1][x] != 'X':\n",
        "                arr[y-1][x] += 1 # top center\n",
        " \n",
        "        if (x >=0 and x <= n-2) and (y >= 0 and y <= n-2):\n",
        "            if arr[y+1][x+1] != 'X':\n",
        "                arr[y+1][x+1] += 1 # bottom right\n",
        "        if (x >= 1 and x <= n-1) and (y >= 0 and y <= n-2):\n",
        "            if arr[y+1][x-1] != 'X':\n",
        "                arr[y+1][x-1] += 1 # bottom left\n",
        "        if (x >= 0 and x <= n-1) and (y >= 0 and y <= n-2):\n",
        "            if arr[y+1][x] != 'X':\n",
        "                arr[y+1][x] += 1 # bottom center\n",
        "    return arr\n",
        "def GeneratePlayerMap(n):\n",
        "    arr = [['-' for row in range(n)] for column in range(n)]\n",
        "    return arr\n",
        "def DisplayMap(map):\n",
        "    for row in map:\n",
        "        print(\" \".join(str(cell) for cell in row))\n",
        "        print(\"\")\n",
        "def CheckPlaying(map):\n",
        "    for row in map:\n",
        "        for cell in row:\n",
        "            if cell == '-':\n",
        "                return True\n",
        "    return False\n",
        "def CheckContinueGame(score):\n",
        "    print(\"Your score: \", score)\n",
        "    isContinue = input(\"Do you want to play again? (y/n) :\")\n",
        "    if isContinue == 'n':\n",
        "        return False\n",
        "    return True\n",
        "def Game():\n",
        "    GameStatus = True\n",
        "    while GameStatus:\n",
        "        difficulty = input(\"Select your difficulty (b, i, h):\")\n",
        "        if difficulty.lower() == 'b':\n",
        "            n = 5\n",
        "            k = 3\n",
        "        elif difficulty.lower() == 'i':\n",
        "            n = 6\n",
        "            k = 8\n",
        "        else:\n",
        "            n = 8\n",
        "            k = 20\n",
        " \n",
        "        minesweeper_map = GenerateMineSweeperMap(n, k)\n",
        "        player_map = GeneratePlayerMap(n)\n",
        "        score = 0\n",
        "        while True:\n",
        "            if CheckPlaying(player_map):\n",
        "                choice = int(input('1. Open a cell? \\n2. Flag a bomb? '))\n",
        "                if choice == 1:\n",
        "                    print(\"Enter your cell you want to open :\")\n",
        "                    x = input(\"X (1 to 5) :\")\n",
        "                    y = input(\"Y (1 to 5) :\")\n",
        "                    x = int(x) - 1 # 0 based indexing\n",
        "                    y = int(y) - 1 # 0 based indexing\n",
        "                    if (minesweeper_map[y][x] == 'X'):\n",
        "                        print(\"Game Over!\")\n",
        "                        DisplayMap(minesweeper_map)\n",
        "                        GameStatus = CheckContinueGame(score)\n",
        "                        break\n",
        "                    else:\n",
        "                        player_map[y][x] = minesweeper_map[y][x]\n",
        "                        DisplayMap(player_map)\n",
        "                        score += 1\n",
        "                else:\n",
        "                    print(\"Enter your cell you want to flag :\")\n",
        "                    x = input(\"X (1 to 5) :\")\n",
        "                    y = input(\"Y (1 to 5) :\")\n",
        "                    x = int(x) - 1 # 0 based indexing\n",
        "                    y = int(y) - 1 # 0 based indexing\n",
        "                    player_map[y][x] = 'X'\n",
        "                    DisplayMap(player_map)\n",
        " \n",
        "            elif player_map == minesweeper_map:\n",
        "                DisplayMap(player_map)\n",
        "                print(\"You have Won!\")\n",
        "                GameStatus = CheckContinueGame(score)\n",
        "                break\n",
        "\n",
        "            else:\n",
        "                print(\"Game Over!\")\n",
        "                DisplayMap(minesweeper_map)\n",
        "                GameStatus = CheckContinueGame(score)\n",
        "                break"
      ],
      "execution_count": null,
      "outputs": []
    },
    {
      "cell_type": "code",
      "metadata": {
        "id": "gRQG4wQ3gkuV"
      },
      "source": [
        "Game()"
      ],
      "execution_count": null,
      "outputs": []
    }
  ]
}